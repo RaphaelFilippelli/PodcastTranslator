{
  "nbformat": 4,
  "nbformat_minor": 0,
  "metadata": {
    "colab": {
      "provenance": []
    },
    "kernelspec": {
      "name": "python3",
      "display_name": "Python 3"
    },
    "language_info": {
      "name": "python"
    }
  },
  "cells": [
    {
      "cell_type": "code",
      "execution_count": null,
      "metadata": {
        "id": "eb6aKOiQ34g4"
      },
      "outputs": [],
      "source": [
        "# Run this first to install all necessary packages\n",
        "!pip install openai elevenlabs pydub ffmpeg-python anthropic\n",
        "!apt-get install ffmpeg"
      ]
    },
    {
      "cell_type": "code",
      "source": [
        "# Enter your API keys here (they will be kept secure in your session)\n",
        "from google.colab import userdata\n",
        "\n",
        "print(\"Fetching API keys from Colab secrets...\")\n",
        "OPENAI_API_KEY = userdata.get(\"OPENAI_API_KEY\")\n",
        "ELEVENLABS_API_KEY = userdata.get(\"ELEVENLABS_API_KEY\")\n",
        "ANTHROPIC_API_KEY = userdata.get(\"ANTHROPIC_API_KEY\")\n",
        "\n",
        "print(\"✅ API keys loaded securely!\")"
      ],
      "metadata": {
        "id": "kEqzYIz14IYp"
      },
      "execution_count": null,
      "outputs": []
    },
    {
      "cell_type": "code",
      "source": [
        "from google.colab import files\n",
        "import os\n",
        "\n",
        "print(\"Please upload your Episode 1 MP3 file:\")\n",
        "uploaded = files.upload()\n",
        "\n",
        "# Get the filename\n",
        "audio_filename = list(uploaded.keys())[0]\n",
        "print(f\"✅ Uploaded: {audio_filename}\")"
      ],
      "metadata": {
        "colab": {
          "base_uri": "https://localhost:8080/",
          "height": 109
        },
        "id": "IEgmWThb52g2",
        "outputId": "b1af6277-30b6-454a-a4be-90ad85342d4b"
      },
      "execution_count": null,
      "outputs": [
        {
          "output_type": "stream",
          "name": "stdout",
          "text": [
            "Please upload your Episode 1 MP3 file:\n"
          ]
        },
        {
          "output_type": "display_data",
          "data": {
            "text/plain": [
              "<IPython.core.display.HTML object>"
            ],
            "text/html": [
              "\n",
              "     <input type=\"file\" id=\"files-4e9db1ab-dfdc-47a0-b128-cf400b1b8157\" name=\"files[]\" multiple disabled\n",
              "        style=\"border:none\" />\n",
              "     <output id=\"result-4e9db1ab-dfdc-47a0-b128-cf400b1b8157\">\n",
              "      Upload widget is only available when the cell has been executed in the\n",
              "      current browser session. Please rerun this cell to enable.\n",
              "      </output>\n",
              "      <script>// Copyright 2017 Google LLC\n",
              "//\n",
              "// Licensed under the Apache License, Version 2.0 (the \"License\");\n",
              "// you may not use this file except in compliance with the License.\n",
              "// You may obtain a copy of the License at\n",
              "//\n",
              "//      http://www.apache.org/licenses/LICENSE-2.0\n",
              "//\n",
              "// Unless required by applicable law or agreed to in writing, software\n",
              "// distributed under the License is distributed on an \"AS IS\" BASIS,\n",
              "// WITHOUT WARRANTIES OR CONDITIONS OF ANY KIND, either express or implied.\n",
              "// See the License for the specific language governing permissions and\n",
              "// limitations under the License.\n",
              "\n",
              "/**\n",
              " * @fileoverview Helpers for google.colab Python module.\n",
              " */\n",
              "(function(scope) {\n",
              "function span(text, styleAttributes = {}) {\n",
              "  const element = document.createElement('span');\n",
              "  element.textContent = text;\n",
              "  for (const key of Object.keys(styleAttributes)) {\n",
              "    element.style[key] = styleAttributes[key];\n",
              "  }\n",
              "  return element;\n",
              "}\n",
              "\n",
              "// Max number of bytes which will be uploaded at a time.\n",
              "const MAX_PAYLOAD_SIZE = 100 * 1024;\n",
              "\n",
              "function _uploadFiles(inputId, outputId) {\n",
              "  const steps = uploadFilesStep(inputId, outputId);\n",
              "  const outputElement = document.getElementById(outputId);\n",
              "  // Cache steps on the outputElement to make it available for the next call\n",
              "  // to uploadFilesContinue from Python.\n",
              "  outputElement.steps = steps;\n",
              "\n",
              "  return _uploadFilesContinue(outputId);\n",
              "}\n",
              "\n",
              "// This is roughly an async generator (not supported in the browser yet),\n",
              "// where there are multiple asynchronous steps and the Python side is going\n",
              "// to poll for completion of each step.\n",
              "// This uses a Promise to block the python side on completion of each step,\n",
              "// then passes the result of the previous step as the input to the next step.\n",
              "function _uploadFilesContinue(outputId) {\n",
              "  const outputElement = document.getElementById(outputId);\n",
              "  const steps = outputElement.steps;\n",
              "\n",
              "  const next = steps.next(outputElement.lastPromiseValue);\n",
              "  return Promise.resolve(next.value.promise).then((value) => {\n",
              "    // Cache the last promise value to make it available to the next\n",
              "    // step of the generator.\n",
              "    outputElement.lastPromiseValue = value;\n",
              "    return next.value.response;\n",
              "  });\n",
              "}\n",
              "\n",
              "/**\n",
              " * Generator function which is called between each async step of the upload\n",
              " * process.\n",
              " * @param {string} inputId Element ID of the input file picker element.\n",
              " * @param {string} outputId Element ID of the output display.\n",
              " * @return {!Iterable<!Object>} Iterable of next steps.\n",
              " */\n",
              "function* uploadFilesStep(inputId, outputId) {\n",
              "  const inputElement = document.getElementById(inputId);\n",
              "  inputElement.disabled = false;\n",
              "\n",
              "  const outputElement = document.getElementById(outputId);\n",
              "  outputElement.innerHTML = '';\n",
              "\n",
              "  const pickedPromise = new Promise((resolve) => {\n",
              "    inputElement.addEventListener('change', (e) => {\n",
              "      resolve(e.target.files);\n",
              "    });\n",
              "  });\n",
              "\n",
              "  const cancel = document.createElement('button');\n",
              "  inputElement.parentElement.appendChild(cancel);\n",
              "  cancel.textContent = 'Cancel upload';\n",
              "  const cancelPromise = new Promise((resolve) => {\n",
              "    cancel.onclick = () => {\n",
              "      resolve(null);\n",
              "    };\n",
              "  });\n",
              "\n",
              "  // Wait for the user to pick the files.\n",
              "  const files = yield {\n",
              "    promise: Promise.race([pickedPromise, cancelPromise]),\n",
              "    response: {\n",
              "      action: 'starting',\n",
              "    }\n",
              "  };\n",
              "\n",
              "  cancel.remove();\n",
              "\n",
              "  // Disable the input element since further picks are not allowed.\n",
              "  inputElement.disabled = true;\n",
              "\n",
              "  if (!files) {\n",
              "    return {\n",
              "      response: {\n",
              "        action: 'complete',\n",
              "      }\n",
              "    };\n",
              "  }\n",
              "\n",
              "  for (const file of files) {\n",
              "    const li = document.createElement('li');\n",
              "    li.append(span(file.name, {fontWeight: 'bold'}));\n",
              "    li.append(span(\n",
              "        `(${file.type || 'n/a'}) - ${file.size} bytes, ` +\n",
              "        `last modified: ${\n",
              "            file.lastModifiedDate ? file.lastModifiedDate.toLocaleDateString() :\n",
              "                                    'n/a'} - `));\n",
              "    const percent = span('0% done');\n",
              "    li.appendChild(percent);\n",
              "\n",
              "    outputElement.appendChild(li);\n",
              "\n",
              "    const fileDataPromise = new Promise((resolve) => {\n",
              "      const reader = new FileReader();\n",
              "      reader.onload = (e) => {\n",
              "        resolve(e.target.result);\n",
              "      };\n",
              "      reader.readAsArrayBuffer(file);\n",
              "    });\n",
              "    // Wait for the data to be ready.\n",
              "    let fileData = yield {\n",
              "      promise: fileDataPromise,\n",
              "      response: {\n",
              "        action: 'continue',\n",
              "      }\n",
              "    };\n",
              "\n",
              "    // Use a chunked sending to avoid message size limits. See b/62115660.\n",
              "    let position = 0;\n",
              "    do {\n",
              "      const length = Math.min(fileData.byteLength - position, MAX_PAYLOAD_SIZE);\n",
              "      const chunk = new Uint8Array(fileData, position, length);\n",
              "      position += length;\n",
              "\n",
              "      const base64 = btoa(String.fromCharCode.apply(null, chunk));\n",
              "      yield {\n",
              "        response: {\n",
              "          action: 'append',\n",
              "          file: file.name,\n",
              "          data: base64,\n",
              "        },\n",
              "      };\n",
              "\n",
              "      let percentDone = fileData.byteLength === 0 ?\n",
              "          100 :\n",
              "          Math.round((position / fileData.byteLength) * 100);\n",
              "      percent.textContent = `${percentDone}% done`;\n",
              "\n",
              "    } while (position < fileData.byteLength);\n",
              "  }\n",
              "\n",
              "  // All done.\n",
              "  yield {\n",
              "    response: {\n",
              "      action: 'complete',\n",
              "    }\n",
              "  };\n",
              "}\n",
              "\n",
              "scope.google = scope.google || {};\n",
              "scope.google.colab = scope.google.colab || {};\n",
              "scope.google.colab._files = {\n",
              "  _uploadFiles,\n",
              "  _uploadFilesContinue,\n",
              "};\n",
              "})(self);\n",
              "</script> "
            ]
          },
          "metadata": {}
        },
        {
          "output_type": "stream",
          "name": "stdout",
          "text": [
            "Saving talktracks6.mp3 to talktracks6 (1).mp3\n",
            "✅ Uploaded: talktracks6 (1).mp3\n"
          ]
        }
      ]
    },
    {
      "cell_type": "code",
      "source": [
        "from pydub import AudioSegment\n",
        "import io\n",
        "\n",
        "# Load the audio file\n",
        "audio = AudioSegment.from_mp3(io.BytesIO(uploaded[audio_filename]))\n",
        "\n",
        "# Extract first 90 seconds for testing\n",
        "test_duration = 90 * 1000  # 90 seconds in milliseconds\n",
        "test_segment = audio[:test_duration]\n",
        "\n",
        "# Save test segment\n",
        "test_filename = \"test_segment.mp3\"\n",
        "test_segment.export(test_filename, format=\"mp3\")\n",
        "\n",
        "print(f\"✅ Created {test_duration/1000} second test segment\")\n",
        "print(f\"📊 Original duration: {len(audio)/1000:.1f} seconds\")"
      ],
      "metadata": {
        "colab": {
          "base_uri": "https://localhost:8080/"
        },
        "id": "_41__v8Z58oL",
        "outputId": "7d310742-b9b2-4468-855a-33ccd6c4781f"
      },
      "execution_count": null,
      "outputs": [
        {
          "output_type": "stream",
          "name": "stdout",
          "text": [
            "✅ Created 90.0 second test segment\n",
            "📊 Original duration: 2042.8 seconds\n"
          ]
        }
      ]
    },
    {
      "cell_type": "code",
      "source": [
        "from openai import OpenAI\n",
        "import base64\n",
        "\n",
        "client = OpenAI(api_key=OPENAI_API_KEY)\n",
        "\n",
        "print(\"🎯 Transcribing audio with Whisper...\")\n",
        "\n",
        "# Transcribe using Whisper API\n",
        "with open(test_filename, \"rb\") as audio_file:\n",
        "    transcript = client.audio.transcriptions.create(\n",
        "        model=\"whisper-1\",\n",
        "        file=audio_file,\n",
        "        response_format=\"verbose_json\",\n",
        "        timestamp_granularities=[\"word\"]\n",
        "    )\n",
        "\n",
        "# Extract text and show preview\n",
        "english_text = transcript.text\n",
        "words_with_timing = transcript.words if hasattr(transcript, 'words') else []\n",
        "\n",
        "print(\"✅ Transcription complete!\")\n",
        "print(f\"\\n📝 First 200 characters:\\n{english_text[:200]}...\")\n",
        "print(f\"\\n📊 Total words: {len(english_text.split())}\")"
      ],
      "metadata": {
        "colab": {
          "base_uri": "https://localhost:8080/"
        },
        "id": "hpObM9kD5_4c",
        "outputId": "1d6008b2-1210-4d57-a58a-8fa730079395"
      },
      "execution_count": null,
      "outputs": [
        {
          "output_type": "stream",
          "name": "stdout",
          "text": [
            "🎯 Transcribing audio with Whisper...\n",
            "✅ Transcription complete!\n",
            "\n",
            "📝 First 200 characters:\n",
            "Hi everyone, I'm Kai Dickens, and I'm thrilled to welcome you to the Talk Tracks. In this series, we dive deeper into the revelations, challenges, and unexpected truths from the Telepathy Tapes. The g...\n",
            "\n",
            "📊 Total words: 224\n"
          ]
        }
      ]
    },
    {
      "cell_type": "code",
      "source": [
        "import anthropic\n",
        "\n",
        "# Initialize Anthropic client\n",
        "anthropic_client = anthropic.Anthropic(api_key=ANTHROPIC_API_KEY)\n",
        "\n",
        "print(\"🌍 Translating to Brazilian Portuguese...\")\n",
        "\n",
        "# Create translation prompt\n",
        "translation_prompt = f\"\"\"Please translate the following English podcast transcript to Brazilian Portuguese.\n",
        "Maintain the conversational, engaging tone of a podcast. Keep proper names unchanged.\n",
        "\n",
        "English transcript:\n",
        "{english_text}\n",
        "\n",
        "Provide only the Portuguese translation, no explanations.\"\"\"\n",
        "\n",
        "# Get translation\n",
        "response = anthropic_client.messages.create(\n",
        "    model=\"claude-3-5-sonnet-20241022\",\n",
        "    max_tokens=4000,\n",
        "    messages=[\n",
        "        {\"role\": \"user\", \"content\": translation_prompt}\n",
        "    ]\n",
        ")\n",
        "\n",
        "portuguese_text = response.content[0].text\n",
        "\n",
        "print(\"✅ Translation complete!\")\n",
        "print(f\"\\n🇧🇷 First 200 characters:\\n{portuguese_text[:200]}...\")"
      ],
      "metadata": {
        "colab": {
          "base_uri": "https://localhost:8080/"
        },
        "id": "Dbmx-D_y6Caf",
        "outputId": "81d0a5c0-b70d-4506-ce21-1a9395a50fe0"
      },
      "execution_count": null,
      "outputs": [
        {
          "output_type": "stream",
          "name": "stdout",
          "text": [
            "🌍 Translating to Brazilian Portuguese...\n",
            "✅ Translation complete!\n",
            "\n",
            "🇧🇷 First 200 characters:\n",
            "Olá pessoal, eu sou Kai Dickens, e estou muito empolgado em dar as boas-vindas ao Talk Tracks. Nesta série, mergulhamos mais fundo nas revelações, desafios e verdades inesperadas das Telepathy Tapes. ...\n"
          ]
        }
      ]
    },
    {
      "cell_type": "code",
      "source": [
        "# Alternative: Use OpenAI for translation instead of Anthropic\n",
        "def translate_with_openai(text):\n",
        "    response = client.chat.completions.create(\n",
        "        model=\"gpt-4o-mini\",\n",
        "        messages=[\n",
        "            {\"role\": \"system\", \"content\": \"You are a professional translator. Translate the following English podcast transcript to Brazilian Portuguese, maintaining the conversational tone.\"},\n",
        "            {\"role\": \"user\", \"content\": text}\n",
        "        ]\n",
        "    )\n",
        "    return response.choices[0].message.content\n",
        "\n",
        "# Use this instead of the Anthropic translation\n",
        "portuguese_text = translate_with_openai(english_text)\n",
        "print(\"✅ Translation complete using OpenAI!\")"
      ],
      "metadata": {
        "id": "r8cK47dOI8WH"
      },
      "execution_count": null,
      "outputs": []
    },
    {
      "cell_type": "code",
      "source": [
        "from elevenlabs import VoiceSettings\n",
        "from elevenlabs.client import ElevenLabs\n",
        "\n",
        "# Initialize ElevenLabs correctly\n",
        "elevenlabs = ElevenLabs(api_key=ELEVENLABS_API_KEY)\n",
        "\n",
        "print(\"🎙️ Setting up voice generation...\")\n",
        "\n",
        "# List available voices\n",
        "try:\n",
        "    voices = elevenlabs.voices.get_all()\n",
        "    print(f\"\\n📋 You have {len(voices.voices)} voices available:\")\n",
        "\n",
        "    # Show first 5 voices\n",
        "    for i, voice in enumerate(voices.voices[:5]):\n",
        "        print(f\"  {i+1}. {voice.name} - {voice.labels.get('description', 'No description')}\")\n",
        "\n",
        "    print(\"\\n✅ ElevenLabs connected successfully!\")\n",
        "except Exception as e:\n",
        "    print(f\"❌ Error listing voices: {e}\")"
      ],
      "metadata": {
        "colab": {
          "base_uri": "https://localhost:8080/"
        },
        "id": "WhNQKU556Ebq",
        "outputId": "04e11791-b8cf-4b3b-f0b0-683e1d1682e2"
      },
      "execution_count": null,
      "outputs": [
        {
          "output_type": "stream",
          "name": "stdout",
          "text": [
            "🎙️ Setting up voice generation...\n",
            "\n",
            "📋 You have 22 voices available:\n",
            "  1. Aria - No description\n",
            "  2. Sarah - No description\n",
            "  3. Laura - No description\n",
            "  4. Charlie - No description\n",
            "  5. George - No description\n",
            "\n",
            "✅ ElevenLabs connected successfully!\n"
          ]
        }
      ]
    },
    {
      "cell_type": "code",
      "source": [
        "# Check ElevenLabs account status\n",
        "try:\n",
        "    # Get user info\n",
        "    user = elevenlabs.user.get()\n",
        "    subscription = user.subscription\n",
        "\n",
        "    print(\"📊 ElevenLabs Account Status:\")\n",
        "    print(f\"✅ Tier: {subscription.tier}\")\n",
        "    print(f\"💬 Character count: {subscription.character_count}\")\n",
        "    print(f\"📈 Character limit: {subscription.character_limit}\")\n",
        "\n",
        "    if subscription.character_count >= subscription.character_limit:\n",
        "        print(\"\\n⚠️ You've used all your characters this month!\")\n",
        "        print(\"💡 You need to upgrade or wait for the monthly reset\")\n",
        "    else:\n",
        "        remaining = subscription.character_limit - subscription.character_count\n",
        "        print(f\"\\n✅ Characters remaining: {remaining:,}\")\n",
        "        print(f\"📝 Portuguese text length: {len(portuguese_text)} characters\")\n",
        "\n",
        "        if len(portuguese_text) > remaining:\n",
        "            print(f\"\\n⚠️ Your text is too long! You need {len(portuguese_text) - remaining:,} more characters\")\n",
        "            print(\"💡 Try processing a shorter segment first\")\n",
        "\n",
        "except Exception as e:\n",
        "    print(f\"❌ Couldn't check account status: {e}\")"
      ],
      "metadata": {
        "colab": {
          "base_uri": "https://localhost:8080/"
        },
        "id": "vLDvsLtXN_9q",
        "outputId": "9e2131a7-f95c-4b75-9489-0856978e6fea"
      },
      "execution_count": null,
      "outputs": [
        {
          "output_type": "stream",
          "name": "stdout",
          "text": [
            "📊 ElevenLabs Account Status:\n",
            "✅ Tier: free\n",
            "💬 Character count: 0\n",
            "📈 Character limit: 10000\n",
            "\n",
            "✅ Characters remaining: 10,000\n",
            "📝 Portuguese text length: 1460 characters\n"
          ]
        }
      ]
    },
    {
      "cell_type": "code",
      "source": [
        "from elevenlabs import save\n",
        "\n",
        "print(\"🎯 Creating Portuguese audio...\")\n",
        "\n",
        "# Choose a multilingual voice that supports Portuguese\n",
        "# Using \"Rachel\" - a good multilingual voice\n",
        "voice_id = \"21m00Tcm4TlvDq8ikWAM\"  # Rachel - verified multilingual voice\n",
        "\n",
        "try:\n",
        "    # Generate Portuguese audio using the correct method\n",
        "    audio = elevenlabs.generate(\n",
        "        text=portuguese_text,\n",
        "        voice=voice_id,\n",
        "        model=\"eleven_multilingual_v2\"\n",
        "    )\n",
        "\n",
        "    # Save the generated audio\n",
        "    save(audio, \"portuguese_test.mp3\")\n",
        "\n",
        "    print(\"✅ Portuguese audio generated!\")\n",
        "    print(\"📁 Saved as: portuguese_test.mp3\")\n",
        "    print(\"\\n🎧 You can now download and listen to the result!\")\n",
        "\n",
        "except Exception as e:\n",
        "    print(f\"❌ Error: {e}\")\n",
        "\n",
        "    # If error, let's try with a basic voice\n",
        "    print(\"\\n🔄 Trying with a different voice...\")\n",
        "    try:\n",
        "        # Try with a simpler setup\n",
        "        audio = elevenlabs.generate(\n",
        "            text=portuguese_text[:500],  # Shorter text for testing\n",
        "            voice=\"Rachel\",  # Using voice name instead of ID\n",
        "            model=\"eleven_multilingual_v2\"\n",
        "        )\n",
        "        save(audio, \"portuguese_test_short.mp3\")\n",
        "        print(\"✅ Generated shorter test version successfully!\")\n",
        "    except Exception as e2:\n",
        "        print(f\"❌ Still having issues: {e2}\")\n",
        "        print(\"\\n💡 Let's check your ElevenLabs account...\")"
      ],
      "metadata": {
        "colab": {
          "base_uri": "https://localhost:8080/"
        },
        "id": "e-YvFQlZ6HN4",
        "outputId": "6cc66027-d70d-4d24-80d2-dc5fa7408d32"
      },
      "execution_count": null,
      "outputs": [
        {
          "output_type": "stream",
          "name": "stdout",
          "text": [
            "🎯 Creating Portuguese audio...\n",
            "❌ Error: 'ElevenLabs' object has no attribute 'generate'\n",
            "\n",
            "🔄 Trying with a different voice...\n",
            "❌ Still having issues: 'ElevenLabs' object has no attribute 'generate'\n",
            "\n",
            "💡 Let's check your ElevenLabs account...\n"
          ]
        }
      ]
    },
    {
      "cell_type": "code",
      "source": [
        "# Simpler approach - use a pre-made Portuguese voice\n",
        "print(\"🎯 Using a pre-made Portuguese voice...\")\n",
        "\n",
        "try:\n",
        "    # Generate with a female Portuguese voice\n",
        "    audio = elevenlabs.generate(\n",
        "        text=portuguese_text[:1000],  # First 1000 characters only\n",
        "        voice=\"Rachel\",  # or try \"Bella\", \"Domi\", \"Elli\"\n",
        "        model=\"eleven_multilingual_v2\"\n",
        "    )\n",
        "\n",
        "    save(audio, \"portuguese_simple.mp3\")\n",
        "    print(\"✅ Success! Audio saved as 'portuguese_simple.mp3'\")\n",
        "\n",
        "    # Download it\n",
        "    from google.colab import files\n",
        "    files.download('portuguese_simple.mp3')\n",
        "\n",
        "except Exception as e:\n",
        "    print(f\"❌ Error: {e}\")\n",
        "    print(\"\\nPossible issues:\")\n",
        "    print(\"1. No characters left in your ElevenLabs account\")\n",
        "    print(\"2. API key issues\")\n",
        "    print(\"3. Text might be too long\")"
      ],
      "metadata": {
        "colab": {
          "base_uri": "https://localhost:8080/"
        },
        "id": "qzZ6ebldORKc",
        "outputId": "bc34a906-22bd-4165-cd76-9e41be9f7f87"
      },
      "execution_count": null,
      "outputs": [
        {
          "output_type": "stream",
          "name": "stdout",
          "text": [
            "🎯 Using a pre-made Portuguese voice...\n",
            "❌ Error: 'ElevenLabs' object has no attribute 'generate'\n",
            "\n",
            "Possible issues:\n",
            "1. No characters left in your ElevenLabs account\n",
            "2. API key issues\n",
            "3. Text might be too long\n"
          ]
        }
      ]
    },
    {
      "cell_type": "code",
      "source": [
        "from google.colab import files\n",
        "\n",
        "print(\"📥 Ready to download your files!\\n\")\n",
        "\n",
        "# Download the Portuguese audio\n",
        "print(\"1️⃣ Downloading Portuguese audio...\")\n",
        "files.download('portuguese_test.mp3')\n",
        "\n",
        "# Create a text file with both transcripts for comparison\n",
        "with open('transcripts.txt', 'w', encoding='utf-8') as f:\n",
        "    f.write(\"=== ENGLISH TRANSCRIPT ===\\n\\n\")\n",
        "    f.write(english_text)\n",
        "    f.write(\"\\n\\n=== PORTUGUESE TRANSLATION ===\\n\\n\")\n",
        "    f.write(portuguese_text)\n",
        "\n",
        "print(\"2️⃣ Downloading transcripts...\")\n",
        "files.download('transcripts.txt')\n",
        "\n",
        "print(\"\\n✅ All done! Check your downloads folder.\")"
      ],
      "metadata": {
        "id": "-ZmAJsLl6J2L"
      },
      "execution_count": null,
      "outputs": []
    },
    {
      "cell_type": "code",
      "source": [
        "# Only run this after you're happy with the test results!\n",
        "process_full = input(\"\\n🤔 Happy with the test? Process full episode? (yes/no): \")\n",
        "\n",
        "if process_full.lower() == 'yes':\n",
        "    print(\"\\n🚀 Processing full episode...\")\n",
        "    print(\"⏰ This may take 10-20 minutes depending on episode length\\n\")\n",
        "\n",
        "    # Process in chunks to handle long audio\n",
        "    chunk_length = 10 * 60 * 1000  # 10 minutes in milliseconds\n",
        "    chunks = []\n",
        "\n",
        "    for i in range(0, len(audio), chunk_length):\n",
        "        chunk = audio[i:i+chunk_length]\n",
        "        chunk_file = f\"chunk_{i//chunk_length}.mp3\"\n",
        "        chunk.export(chunk_file, format=\"mp3\")\n",
        "        chunks.append(chunk_file)\n",
        "        print(f\"📦 Created chunk {i//chunk_length + 1} of {len(audio)//chunk_length + 1}\")\n",
        "\n",
        "    # Process each chunk\n",
        "    all_transcripts = []\n",
        "    all_translations = []\n",
        "\n",
        "    for i, chunk_file in enumerate(chunks):\n",
        "        print(f\"\\n🎯 Processing chunk {i+1}/{len(chunks)}...\")\n",
        "\n",
        "        # Transcribe chunk\n",
        "        with open(chunk_file, \"rb\") as f:\n",
        "            transcript = client.audio.transcriptions.create(\n",
        "                model=\"whisper-1\",\n",
        "                file=f\n",
        "            )\n",
        "        all_transcripts.append(transcript.text)\n",
        "\n",
        "        # Translate chunk\n",
        "        response = anthropic_client.messages.create(\n",
        "            model=\"claude-3-5-sonnet-20241022\",\n",
        "            max_tokens=4000,\n",
        "            messages=[\n",
        "                {\"role\": \"user\", \"content\": f\"Translate to Brazilian Portuguese:\\n\\n{transcript.text}\"}\n",
        "            ]\n",
        "        )\n",
        "        all_translations.append(response.content[0].text)\n",
        "\n",
        "        print(f\"✅ Chunk {i+1} complete\")\n",
        "\n",
        "    # Combine all translations\n",
        "    full_portuguese = \" \".join(all_translations)\n",
        "\n",
        "    print(\"\\n✅ Full episode processed!\")\n",
        "    print(f\"📊 Total Portuguese text: {len(full_portuguese)} characters\")\n",
        "\n",
        "else:\n",
        "    print(\"\\n👍 No problem! Refine your settings and test again.\")"
      ],
      "metadata": {
        "id": "lixg-gFG6MCu"
      },
      "execution_count": null,
      "outputs": []
    }
  ]
}